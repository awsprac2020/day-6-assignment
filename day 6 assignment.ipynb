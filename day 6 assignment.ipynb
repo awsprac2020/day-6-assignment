{
 "cells": [
  {
   "cell_type": "code",
   "execution_count": 4,
   "metadata": {},
   "outputs": [
    {
     "name": "stdout",
     "output_type": "stream",
     "text": [
      "Account owner: Stark\n",
      "Account balance: 1000\n",
      "Deposit Accepted, your balance is 1500\n",
      "Withdrawal Accepted, your balance is 0\n",
      "Funds Unavailable!\n"
     ]
    }
   ],
   "source": [
    "\n",
    "\n",
    "class Account:\n",
    "    \n",
    "    def __init__(self, owner, balance):\n",
    "        self.owner = owner\n",
    "        self.balance = balance\n",
    "    \n",
    "    def __str__(self):\n",
    "        return 'Account owner: {owner}\\nAccount balance: {balance}'.format(owner=self.owner, balance=self.balance)\n",
    "        \n",
    "    def deposit(self, dp_money):\n",
    "        self.balance += dp_money\n",
    "        print('Deposit Accepted, your balance is {balance}'.format(balance=self.balance))\n",
    "    \n",
    "    def withdraw(self, wd_money):\n",
    "        if wd_money > self.balance:\n",
    "            print('Funds Unavailable!')\n",
    "        else:\n",
    "            self.balance -= wd_money\n",
    "            print('Withdrawal Accepted, your balance is {balance}'.format(balance=self.balance))\n",
    "            \n",
    "acct1 = Account('Stark',1000)\n",
    "print(acct1)\n",
    "\n",
    "acct1.deposit(500)\n",
    "acct1.withdraw(1500)\n",
    "acct1.withdraw(500)"
   ]
  },
  {
   "cell_type": "code",
   "execution_count": 6,
   "metadata": {},
   "outputs": [
    {
     "name": "stdout",
     "output_type": "stream",
     "text": [
      "Please Enter the Radius of a Cone: 7\n",
      "Please Enter the Height of a Cone: 5\n",
      "\n",
      " Length of a Side (Slant)of a Cone = 8.60\n",
      " The Surface Area of a Cone = 343.11 \n",
      " The Volume of a Cone = 256.56\n",
      " The Lateral Surface Area of a Cone = 189.18 \n"
     ]
    }
   ],
   "source": [
    "import math\n",
    "\n",
    "radius = float(input('Please Enter the Radius of a Cone: '))\n",
    "height = float(input('Please Enter the Height of a Cone: '))\n",
    "\n",
    "# Calculate Length of a Slide (Slant)\n",
    "l = math.sqrt(radius * radius + height * height)\n",
    "\n",
    "# Calculate the Surface Area\n",
    "SA = math.pi * radius * (radius + l)\n",
    "#Calculate the Volume\n",
    "Volume = (1.0/3) * math.pi * radius * radius * height\n",
    "\n",
    "# Calculate the Lateral Surface Area\n",
    "LSA = math.pi * radius  * l\n",
    "\n",
    "print(\"\\n Length of a Side (Slant)of a Cone = %.2f\" %l)\n",
    "print(\" The Surface Area of a Cone = %.2f \" %SA)\n",
    "print(\" The Volume of a Cone = %.2f\" %Volume);\n",
    "print(\" The Lateral Surface Area of a Cone = %.2f \" %LSA)"
   ]
  },
  {
   "cell_type": "code",
   "execution_count": null,
   "metadata": {},
   "outputs": [],
   "source": []
  }
 ],
 "metadata": {
  "kernelspec": {
   "display_name": "Python 3",
   "language": "python",
   "name": "python3"
  },
  "language_info": {
   "codemirror_mode": {
    "name": "ipython",
    "version": 3
   },
   "file_extension": ".py",
   "mimetype": "text/x-python",
   "name": "python",
   "nbconvert_exporter": "python",
   "pygments_lexer": "ipython3",
   "version": "3.8.3"
  }
 },
 "nbformat": 4,
 "nbformat_minor": 4
}
